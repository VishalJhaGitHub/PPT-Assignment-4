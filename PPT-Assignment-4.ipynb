{
 "cells": [
  {
   "cell_type": "code",
   "execution_count": 2,
   "id": "79c4e31b-23b3-431e-b39a-556fa85a545a",
   "metadata": {},
   "outputs": [
    {
     "name": "stdout",
     "output_type": "stream",
     "text": [
      "[1, 5]\n"
     ]
    }
   ],
   "source": [
    "#1. Given three integer arrays arr1, arr2 and arr3 **sorted** in **strictly increasing** order, return a sorted array of **only** the integers that appeared in **all** three arrays.\n",
    "\n",
    "#**Example 1:**\n",
    "\n",
    "#Input: arr1 = [1,2,3,4,5], arr2 = [1,2,5,7,9], arr3 = [1,3,4,5,8]\n",
    "\n",
    "#Output: [1,5]\n",
    "\n",
    "#**Explanation:** Only 1 and 5 appeared in the three arrays.\n",
    "\n",
    "#Ans\n",
    "\n",
    "def find_common_elements(arr1, arr2, arr3):\n",
    "    i = j = k = 0  # Initialize three pointers\n",
    "    \n",
    "    common_elements = []  # List to store common elements\n",
    "    \n",
    "    # Iterate until any pointer reaches the end of its respective array\n",
    "    while i < len(arr1) and j < len(arr2) and k < len(arr3):\n",
    "        if arr1[i] == arr2[j] == arr3[k]:  # If the current elements are equal\n",
    "            common_elements.append(arr1[i])  # Add the element to the common_elements list\n",
    "            i += 1  # Move all pointers to the next element\n",
    "            j += 1\n",
    "            k += 1\n",
    "        elif arr1[i] < arr2[j]:  # If the current element in arr1 is smaller\n",
    "            i += 1  # Move the arr1 pointer to the next element\n",
    "        elif arr2[j] < arr3[k]:  # If the current element in arr2 is smaller\n",
    "            j += 1  # Move the arr2 pointer to the next element\n",
    "        else:  # If the current element in arr3 is smaller\n",
    "            k += 1  # Move the arr3 pointer to the next element\n",
    "    \n",
    "    return common_elements\n",
    "\n",
    "\n",
    "arr1 = [1, 2, 3, 4, 5]\n",
    "arr2 = [1, 2, 5, 7, 9]\n",
    "arr3 = [1, 3, 4, 5, 8]\n",
    "\n",
    "common_elements = find_common_elements(arr1, arr2, arr3)\n",
    "print(common_elements)"
   ]
  },
  {
   "cell_type": "code",
   "execution_count": 3,
   "id": "81e3a816-4b5d-4a46-af22-126d0628e92c",
   "metadata": {},
   "outputs": [
    {
     "name": "stdout",
     "output_type": "stream",
     "text": [
      "[[1, 3], [4, 6]]\n"
     ]
    }
   ],
   "source": [
    "#2. Given two 0-indexed integer arrays nums1 and nums2, return a list answer of size 2 where:\n",
    "\n",
    "#answer[0] is a list of all distinct integers in nums1 which are not present in nums2.\n",
    "#answer[1] is a list of all distinct integers in nums2 which are not present in nums1.\n",
    "\n",
    "#Note that the integers in the lists may be returned in any order.\n",
    "\n",
    "#Example 1:\n",
    "\n",
    "#Input: nums1 = [1,2,3], nums2 = [2,4,6]\n",
    "\n",
    "#Output: [[1,3],[4,6]]\n",
    "\n",
    "#Explanation:\n",
    "\n",
    "#For nums1, nums1[1] = 2 is present at index 0 of nums2, whereas nums1[0] = 1 and nums1[2] = 3 are not present in nums2. Therefore, answer[0] = [1,3].\n",
    "\n",
    "#For nums2, nums2[0] = 2 is present at index 1 of nums1, whereas nums2[1] = 4 and nums2[2] = 6 are not present in nums2. Therefore, answer[1] = [4,6].\n",
    "\n",
    "#Ans\n",
    "\n",
    "def find_missing_elements(nums1, nums2):\n",
    "    distinct_nums1 = set(nums1) - set(nums2)  # Get distinct integers in nums1 not in nums2\n",
    "    distinct_nums2 = set(nums2) - set(nums1)  # Get distinct integers in nums2 not in nums1\n",
    "\n",
    "    return [list(distinct_nums1), list(distinct_nums2)]  # Convert sets to lists and return the result\n",
    "\n",
    "\n",
    "nums1 = [1, 2, 3]\n",
    "nums2 = [2, 4, 6]\n",
    "\n",
    "answer = find_missing_elements(nums1, nums2)\n",
    "print(answer)"
   ]
  },
  {
   "cell_type": "code",
   "execution_count": 4,
   "id": "fd00e244-37b2-4688-83d4-3112ece8bc7e",
   "metadata": {},
   "outputs": [
    {
     "name": "stdout",
     "output_type": "stream",
     "text": [
      "[[1, 4, 7], [2, 5, 8], [3, 6, 9]]\n"
     ]
    }
   ],
   "source": [
    "#3. Given a 2D integer array matrix, return the transpose of matrix.\n",
    "\n",
    "#The transpose of a matrix is the matrix flipped over its main diagonal, switching the matrix's row and column indices.\n",
    "\n",
    "#Example 1:\n",
    "\n",
    "#Input: matrix = [[1,2,3],[4,5,6],[7,8,9]]\n",
    "\n",
    "#Output: [[1,4,7],[2,5,8],[3,6,9]\n",
    "\n",
    "#Ans\n",
    "         \n",
    "def transpose(matrix):\n",
    "    # Get the number of rows and columns in the matrix\n",
    "    rows = len(matrix)\n",
    "    cols = len(matrix[0]) if rows > 0 else 0\n",
    "    \n",
    "    # Create a new matrix with swapped rows and columns\n",
    "    transposed = [[matrix[j][i] for j in range(rows)] for i in range(cols)]\n",
    "    \n",
    "    return transposed\n",
    "\n",
    "\n",
    "matrix = [[1, 2, 3], [4, 5, 6], [7, 8, 9]]\n",
    "\n",
    "transposed_matrix = transpose(matrix)\n",
    "print(transposed_matrix)     "
   ]
  },
  {
   "cell_type": "code",
   "execution_count": 5,
   "id": "8d3b6a7b-6111-403b-94ef-3ada7db0debc",
   "metadata": {},
   "outputs": [
    {
     "name": "stdout",
     "output_type": "stream",
     "text": [
      "4\n"
     ]
    }
   ],
   "source": [
    "#4. Given an integer array nums of 2n integers, group these integers into n pairs (a1, b1), (a2, b2), ..., (an, bn) such that the sum of min(ai, bi) for all i is maximized. Return the maximized sum.\n",
    "\n",
    "#Example 1:\n",
    "\n",
    "#Input: nums = [1,4,3,2]\n",
    "\n",
    "#Output: 4\n",
    "\n",
    "#Explanation: All possible pairings (ignoring the ordering of elements) are:\n",
    "\n",
    "#1. (1, 4), (2, 3) -> min(1, 4) + min(2, 3) = 1 + 2 = 3\n",
    "\n",
    "#2. (1, 3), (2, 4) -> min(1, 3) + min(2, 4) = 1 + 2 = 3\n",
    "\n",
    "#3. (1, 2), (3, 4) -> min(1, 2) + min(3, 4) = 1 + 3 = 4\n",
    "\n",
    "#So the maximum possible sum is 4.\n",
    "\n",
    "#Ans\n",
    "\n",
    "def array_pair_sum(nums):\n",
    "    nums.sort()  # Sort the array in ascending order\n",
    "    pair_sum = 0\n",
    "    \n",
    "    # Sum the minimum element in each pair\n",
    "    for i in range(0, len(nums), 2):\n",
    "        pair_sum += nums[i]\n",
    "    \n",
    "    return pair_sum\n",
    "\n",
    "\n",
    "nums = [1, 4, 3, 2]\n",
    "maximized_sum = array_pair_sum(nums)\n",
    "print(maximized_sum)"
   ]
  },
  {
   "cell_type": "code",
   "execution_count": 6,
   "id": "0bfccc89-6f77-477a-9337-585ebfa37441",
   "metadata": {},
   "outputs": [
    {
     "name": "stdout",
     "output_type": "stream",
     "text": [
      "2\n"
     ]
    }
   ],
   "source": [
    "#5. You have n coins and you want to build a staircase with these coins. The staircase consists of k rows where the ith row has exactly i coins. The last row of the staircase may be incomplete.\n",
    "\n",
    "#Given the integer n, return the number of complete rows of the staircase you will build.\n",
    "\n",
    "#Example 1:\n",
    "    \n",
    "#https://pwskills.notion.site/image/https%3A%2F%2Fs3-us-west-2.amazonaws.com%2Fsecure.notion-static.com%2F4bd91cfa-d2b1-47b3-8197-a72e8dcfff4b%2Fv2.jpg?id=f76e61a3-ed52-44d0-8acb-0eb5077747c7&table=block&spaceId=6fae2e0f-dedc-48e9-bc59-af2654c78209&width=510&userId=&cache=v2    \n",
    "\n",
    "#Input: n = 5\n",
    "\n",
    "#Output: 2\n",
    "\n",
    "#Explanation: Because the 3rd row is incomplete, we return 2.\n",
    "\n",
    "#Ans\n",
    "\n",
    "def arrange_coins(n):\n",
    "    left = 0\n",
    "    right = n\n",
    "    while left <= right:\n",
    "        mid = left + (right - left) // 2\n",
    "        curr_sum = (mid * (mid + 1)) // 2\n",
    "        if curr_sum == n:\n",
    "            return mid\n",
    "        elif curr_sum > n:\n",
    "            right = mid - 1\n",
    "        else:\n",
    "            left = mid + 1\n",
    "    return right\n",
    "\n",
    "\n",
    "n = 5\n",
    "complete_rows = arrange_coins(n)\n",
    "print(complete_rows)"
   ]
  },
  {
   "cell_type": "code",
   "execution_count": 7,
   "id": "f2a4cd13-3113-4b42-bcbb-fbc19d82f0c7",
   "metadata": {},
   "outputs": [
    {
     "name": "stdout",
     "output_type": "stream",
     "text": [
      "[0, 1, 9, 16, 100]\n"
     ]
    }
   ],
   "source": [
    "#6. Given an integer array nums sorted in non-decreasing order, return an array of the squares of each number sorted in non-decreasing order.\n",
    "\n",
    "#Example 1:\n",
    "\n",
    "#Input: nums = [-4,-1,0,3,10]\n",
    "\n",
    "#Output: [0,1,9,16,100]\n",
    "\n",
    "#Explanation: After squaring, the array becomes [16,1,0,9,100].\n",
    "#After sorting, it becomes [0,1,9,16,100]\n",
    "\n",
    "#Ans\n",
    "\n",
    "def sorted_squares(nums):\n",
    "    squared_nums = [num ** 2 for num in nums]  # Square each number\n",
    "    squared_nums.sort()  # Sort the squared array\n",
    "    return squared_nums\n",
    "\n",
    "\n",
    "nums = [-4, -1, 0, 3, 10]\n",
    "sorted_squared_nums = sorted_squares(nums)\n",
    "print(sorted_squared_nums)"
   ]
  },
  {
   "cell_type": "code",
   "execution_count": 8,
   "id": "aa4a4f2d-ff45-403c-a50b-aaf3b760e7c4",
   "metadata": {},
   "outputs": [
    {
     "name": "stdout",
     "output_type": "stream",
     "text": [
      "4\n"
     ]
    }
   ],
   "source": [
    "#7. You are given an m x n matrix M initialized with all 0's and an array of operations ops, where ops[i] = [ai, bi] means M[x][y] should be incremented by one for all 0 <= x < ai and 0 <= y < bi.\n",
    "\n",
    "#Count and return the number of maximum integers in the matrix after performing all the operations\n",
    "\n",
    "#Example 1:\n",
    "\n",
    "#https://pwskills.notion.site/image/https%3A%2F%2Fs3-us-west-2.amazonaws.com%2Fsecure.notion-static.com%2F4d0890d0-7bc7-4f59-be8e-352d9f3c1c52%2Fq4.jpg?id=7cc414ab-5e71-4b38-aa0b-c550dd938e49&table=block&spaceId=6fae2e0f-dedc-48e9-bc59-af2654c78209&width=1020&userId=&cache=v2\n",
    "\n",
    "#Input: m = 3, n = 3, ops = [[2,2],[3,3]]\n",
    "\n",
    "#Output: 4\n",
    "\n",
    "#Explanation: The maximum integer in M is 2, and there are four of it in M. So return 4.\n",
    "\n",
    "#Ans\n",
    "\n",
    "def max_count(m, n, ops):\n",
    "    if not ops:\n",
    "        return m * n\n",
    "\n",
    "    min_ai = min(op[0] for op in ops)\n",
    "    min_bi = min(op[1] for op in ops)\n",
    "\n",
    "    return min_ai * min_bi\n",
    "\n",
    "\n",
    "m = 3\n",
    "n = 3\n",
    "ops = [[2, 2], [3, 3]]\n",
    "max_integers = max_count(m, n, ops)\n",
    "print(max_integers)"
   ]
  },
  {
   "cell_type": "code",
   "execution_count": 9,
   "id": "3f9c9194-e40e-4c67-aba0-53f827f24b40",
   "metadata": {},
   "outputs": [
    {
     "name": "stdout",
     "output_type": "stream",
     "text": [
      "[2, 3, 5, 4, 1, 7]\n"
     ]
    }
   ],
   "source": [
    "#8. Given the array nums consisting of 2n elements in the form [x1,x2,...,xn,y1,y2,...,yn].\n",
    "\n",
    "#Return the array in the form [x1,y1,x2,y2,...,xn,yn].\n",
    "\n",
    "#Example 1:\n",
    "\n",
    "#Input: nums = [2,5,1,3,4,7], n = 3\n",
    "\n",
    "#Output: [2,3,5,4,1,7]\n",
    "\n",
    "#Explanation: Since x1=2, x2=5, x3=1, y1=3, y2=4, y3=7 then the answer is [2,3,5,4,1,7].\n",
    "\n",
    "#Ans\n",
    "\n",
    "def shuffle_array(nums, n):\n",
    "    result = []\n",
    "    for i in range(n):\n",
    "        result.append(nums[i])\n",
    "        result.append(nums[n + i])\n",
    "    return result\n",
    "\n",
    "nums = [2, 5, 1, 3, 4, 7]\n",
    "n = 3\n",
    "shuffled_nums = shuffle_array(nums, n)\n",
    "print(shuffled_nums)"
   ]
  },
  {
   "cell_type": "code",
   "execution_count": null,
   "id": "0e56ebfe-17b2-48e0-9260-ee322be8be32",
   "metadata": {},
   "outputs": [],
   "source": []
  }
 ],
 "metadata": {
  "kernelspec": {
   "display_name": "Python 3 (ipykernel)",
   "language": "python",
   "name": "python3"
  },
  "language_info": {
   "codemirror_mode": {
    "name": "ipython",
    "version": 3
   },
   "file_extension": ".py",
   "mimetype": "text/x-python",
   "name": "python",
   "nbconvert_exporter": "python",
   "pygments_lexer": "ipython3",
   "version": "3.10.9"
  }
 },
 "nbformat": 4,
 "nbformat_minor": 5
}
